{
  "nbformat": 4,
  "nbformat_minor": 0,
  "metadata": {
    "colab": {
      "name": "Netologia_diploma.ipynb",
      "provenance": [],
      "collapsed_sections": [],
      "authorship_tag": "ABX9TyOnLViv0P3c8n6xhdDXNU3A",
      "include_colab_link": true
    },
    "kernelspec": {
      "name": "python3",
      "display_name": "Python 3"
    },
    "language_info": {
      "name": "python"
    }
  },
  "cells": [
    {
      "cell_type": "markdown",
      "metadata": {
        "id": "view-in-github",
        "colab_type": "text"
      },
      "source": [
        "<a href=\"https://colab.research.google.com/github/Nsv61/Netologia_diploma_NSV61/blob/main/Netologia_diploma.ipynb\" target=\"_parent\"><img src=\"https://colab.research.google.com/assets/colab-badge.svg\" alt=\"Open In Colab\"/></a>"
      ]
    },
    {
      "cell_type": "code",
      "execution_count": null,
      "metadata": {
        "id": "20ZlFF3M5CFx"
      },
      "outputs": [],
      "source": [
        "import numpy as np\n",
        "import pandas as pd\n",
        "import matplotlib.pyplot as plt\n",
        "#import seaborn as sns\n",
        "from sklearn.linear_model import LinearRegression\n",
        "from sklearn.model_selection import train_test_split\n",
        "\n",
        "\n",
        "df = pd.read_csv('HR.csv')\n",
        "df_stat = df\n",
        "df_stat = df_stat.drop('department', axis=1)\n",
        "df_stat = df_stat.drop('salary', axis=1)\n",
        "df_stat = df_stat.drop('promotion_last_5years', axis=1)\n",
        "df_stat = df_stat.drop('left', axis=1)\n",
        "df_stat = df_stat.drop('Work_accident', axis=1)\n",
        "\n",
        "pd.set_option('display.max_columns',None)\n",
        "\n",
        "print(df_stat.head())\n",
        "print(df_stat.describe())\n",
        "print(df_stat.corr())\n",
        "\n",
        "print(df['department'].value_counts()) # кол-во людей в каждом отделе\n",
        "print(df['salary'].value_counts())  # распределение по зарплатам\n",
        "print(df.groupby(['department'])['salary'].value_counts())\n",
        "'''\n",
        "agg_func_math = {'count': ['min']}\n",
        "df_grp = df.groupby(['department']).agg(agg_func_math)    # создаем датафрейм, сгруппированный по годам\n",
        "'''"
      ]
    }
  ]
}