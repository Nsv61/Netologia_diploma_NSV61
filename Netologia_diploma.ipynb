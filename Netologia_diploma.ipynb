{
  "nbformat": 4,
  "nbformat_minor": 0,
  "metadata": {
    "colab": {
      "name": "Netologia_diploma.ipynb",
      "provenance": [],
      "collapsed_sections": [],
      "authorship_tag": "ABX9TyP0HH/d2yCWGrqOK50vWw0v",
      "include_colab_link": true
    },
    "kernelspec": {
      "name": "python3",
      "display_name": "Python 3"
    },
    "language_info": {
      "name": "python"
    }
  },
  "cells": [
    {
      "cell_type": "markdown",
      "metadata": {
        "id": "view-in-github",
        "colab_type": "text"
      },
      "source": [
        "<a href=\"https://colab.research.google.com/github/Nsv61/Netologia_diploma_NSV61/blob/main/Netologia_diploma.ipynb\" target=\"_parent\"><img src=\"https://colab.research.google.com/assets/colab-badge.svg\" alt=\"Open In Colab\"/></a>"
      ]
    },
    {
      "cell_type": "code",
      "execution_count": 42,
      "metadata": {
        "id": "20ZlFF3M5CFx"
      },
      "outputs": [],
      "source": [
        "import numpy as np\n",
        "import pandas as pd\n",
        "import matplotlib.pyplot as plt\n",
        "import seaborn as sns\n",
        "from sklearn.linear_model import LinearRegression\n",
        "from sklearn.model_selection import train_test_split\n",
        "\n",
        "# п. 1 Загрузите файл HR.csv в pandas dataframe\n",
        "df = pd.read_csv('HR.csv')"
      ]
    },
    {
      "cell_type": "code",
      "source": [
        "# п. 2 Рассчитайте основные статистики для переменных\n",
        "# (среднее,медиана,мода,мин/макс,сред.отклонение).\n",
        "print('п.2 Основные статистики для переменных', sep='/n')\n",
        "df_stat = df\n",
        "print(df_stat.describe(include='all'))\n",
        "\n",
        "print('min', min(df['satisfaction_level']))\n",
        "print('max', max(df['satisfaction_level']))\n",
        "print('Размах', max(df['satisfaction_level']) - min(df['satisfaction_level']))\n",
        "print('Медиана', df['satisfaction_level'].median())\n",
        "print('Среднее', df['satisfaction_level'].mean())\n",
        "print('Мода', df['satisfaction_level'].mode()[0])\n",
        "print('std', (df['satisfaction_level']).std())"
      ],
      "metadata": {
        "colab": {
          "base_uri": "https://localhost:8080/"
        },
        "id": "k2oH_qgfv56f",
        "outputId": "7209f930-5046-4c1c-a3b0-ce0d04f77792"
      },
      "execution_count": 43,
      "outputs": [
        {
          "output_type": "stream",
          "name": "stdout",
          "text": [
            "п.2 Основные статистики для переменных\n",
            "        satisfaction_level  last_evaluation  number_project  \\\n",
            "count         14999.000000     14999.000000    14999.000000   \n",
            "unique                 NaN              NaN             NaN   \n",
            "top                    NaN              NaN             NaN   \n",
            "freq                   NaN              NaN             NaN   \n",
            "mean              0.612834         0.716102        3.803054   \n",
            "std               0.248631         0.171169        1.232592   \n",
            "min               0.090000         0.360000        2.000000   \n",
            "25%               0.440000         0.560000        3.000000   \n",
            "50%               0.640000         0.720000        4.000000   \n",
            "75%               0.820000         0.870000        5.000000   \n",
            "max               1.000000         1.000000        7.000000   \n",
            "\n",
            "        average_montly_hours  time_spend_company  Work_accident          left  \\\n",
            "count           14999.000000        14999.000000   14999.000000  14999.000000   \n",
            "unique                   NaN                 NaN            NaN           NaN   \n",
            "top                      NaN                 NaN            NaN           NaN   \n",
            "freq                     NaN                 NaN            NaN           NaN   \n",
            "mean              201.050337            3.498233       0.144610      0.238083   \n",
            "std                49.943099            1.460136       0.351719      0.425924   \n",
            "min                96.000000            2.000000       0.000000      0.000000   \n",
            "25%               156.000000            3.000000       0.000000      0.000000   \n",
            "50%               200.000000            3.000000       0.000000      0.000000   \n",
            "75%               245.000000            4.000000       0.000000      0.000000   \n",
            "max               310.000000           10.000000       1.000000      1.000000   \n",
            "\n",
            "        promotion_last_5years department salary  \n",
            "count            14999.000000      14999  14999  \n",
            "unique                    NaN         10      3  \n",
            "top                       NaN      sales    low  \n",
            "freq                      NaN       4140   7316  \n",
            "mean                 0.021268        NaN    NaN  \n",
            "std                  0.144281        NaN    NaN  \n",
            "min                  0.000000        NaN    NaN  \n",
            "25%                  0.000000        NaN    NaN  \n",
            "50%                  0.000000        NaN    NaN  \n",
            "75%                  0.000000        NaN    NaN  \n",
            "max                  1.000000        NaN    NaN  \n",
            "min 0.09\n",
            "max 1.0\n",
            "Размах 0.91\n",
            "Медиана 0.64\n",
            "Среднее 0.6128335222348166\n",
            "Мода 0.1\n",
            "std 0.2486306510611418\n"
          ]
        }
      ]
    },
    {
      "cell_type": "code",
      "source": [
        "# п. 3 Рассчитайте и визуализировать корреляционную матрицу для\n",
        "# количественных переменных.\n",
        "# Определите две самые скоррелированные и две наименее скоррелированные переменные.\n",
        "print('п.3 Рассчитайте и визуализировать корреляционную матрицу для количественных переменных.', sep='/n')\n",
        "df_stat = df_stat.drop(['salary', 'department','left','Work_accident','promotion_last_5years'], axis = 1)\n",
        "print(df_stat.corr())\n",
        "sns.heatmap(df_stat.corr(), annot=True, vmin=-1, center=0, vmax=1, cmap='coolwarm', linewidths=2, linecolor='black')\n",
        "plt.show()\n",
        "#из корреляционной матрицы видно, что наиболее скореллированные переменные -это \n",
        "#average_montly_hours и number_project, last_evaluation и number_project\n",
        "#а наимение - number_project and satisfaction_level, time_spend_company и satisfaction_level"
      ],
      "metadata": {
        "colab": {
          "base_uri": "https://localhost:8080/",
          "height": 630
        },
        "id": "JXhq0V_Ivwb4",
        "outputId": "bc8f3997-7574-47de-f123-237a7477d6d6"
      },
      "execution_count": 44,
      "outputs": [
        {
          "output_type": "stream",
          "name": "stdout",
          "text": [
            "п.3 Рассчитайте и визуализировать корреляционную матрицу для количественных переменных.\n",
            "                      satisfaction_level  last_evaluation  number_project  \\\n",
            "satisfaction_level              1.000000         0.105021       -0.142970   \n",
            "last_evaluation                 0.105021         1.000000        0.349333   \n",
            "number_project                 -0.142970         0.349333        1.000000   \n",
            "average_montly_hours           -0.020048         0.339742        0.417211   \n",
            "time_spend_company             -0.100866         0.131591        0.196786   \n",
            "\n",
            "                      average_montly_hours  time_spend_company  \n",
            "satisfaction_level               -0.020048           -0.100866  \n",
            "last_evaluation                   0.339742            0.131591  \n",
            "number_project                    0.417211            0.196786  \n",
            "average_montly_hours              1.000000            0.127755  \n",
            "time_spend_company                0.127755            1.000000  \n"
          ]
        },
        {
          "output_type": "display_data",
          "data": {
            "text/plain": [
              "<Figure size 432x288 with 2 Axes>"
            ],
            "image/png": "[encoded data removed]"
          },
          "metadata": {
            "needs_background": "light"
          }
        }
      ]
    },
    {
      "cell_type": "code",
      "source": [
        "# п. 4 Рассчитайте сколько сотрудников работает в каждом департаменте.\n",
        "print('п. 4 Рассчитайте сколько сотрудников работает в каждом департаменте.', sep='/n')\n",
        "print(df['department'].value_counts()) # кол-во людей в каждом отделе"
      ],
      "metadata": {
        "colab": {
          "base_uri": "https://localhost:8080/"
        },
        "id": "6M6XUvurvh2D",
        "outputId": "7539b87e-3512-4707-f7e6-acdc2ee0b5e6"
      },
      "execution_count": 45,
      "outputs": [
        {
          "output_type": "stream",
          "name": "stdout",
          "text": [
            "п. 4 Рассчитайте сколько сотрудников работает в каждом департаменте.\n",
            "sales          4140\n",
            "technical      2720\n",
            "support        2229\n",
            "IT             1227\n",
            "product_mng     902\n",
            "marketing       858\n",
            "RandD           787\n",
            "accounting      767\n",
            "hr              739\n",
            "management      630\n",
            "Name: department, dtype: int64\n"
          ]
        }
      ]
    },
    {
      "cell_type": "code",
      "source": [
        "# п. 5 Показать распределение сотрудников по зарплатам.\n",
        "print('п. 5 Показать распределение сотрудников по зарплатам.', sep='/n')\n",
        "df_gr = df['salary'].value_counts()\n",
        "print(df['salary'].value_counts())  # распределение по зарплатам\n",
        "df_gr.plot(kind='barh', label='Статистика магнитуды по годам')\n",
        "plt.show()"
      ],
      "metadata": {
        "colab": {
          "base_uri": "https://localhost:8080/",
          "height": 357
        },
        "id": "1cPDlNbCvDGd",
        "outputId": "f6af7252-7922-4738-a10c-870f7911a534"
      },
      "execution_count": 46,
      "outputs": [
        {
          "output_type": "stream",
          "name": "stdout",
          "text": [
            "п. 5 Показать распределение сотрудников по зарплатам.\n",
            "low       7316\n",
            "medium    6446\n",
            "high      1237\n",
            "Name: salary, dtype: int64\n"
          ]
        },
        {
          "output_type": "display_data",
          "data": {
            "text/plain": [
              "<Figure size 432x288 with 1 Axes>"
            ],
            "image/png": "[encoded data removed]"
          },
          "metadata": {
            "needs_background": "light"
          }
        }
      ]
    },
    {
      "cell_type": "code",
      "source": [
        "# п. 6 Показать распределение сотрудников по зарплатам в каждом\n",
        "# департаменте по отдельности\n",
        "print('п. 6 Показать распределение сотрудников по зарплатам в каждом департаменте по отдельности', sep='/n')\n",
        "df_gr = df.groupby(['department'])['salary'].value_counts()\n",
        "print(df.groupby(['department'])['salary'].value_counts())\n",
        "df_gr.plot(kind='barh', label='Статистика магнитуды по годам')\n",
        "plt.show()\n",
        "\n",
        "# п. 7 пропускаем"
      ],
      "metadata": {
        "colab": {
          "base_uri": "https://localhost:8080/",
          "height": 872
        },
        "id": "k9C6u7qmksvq",
        "outputId": "6ddbe8e5-d1ab-4078-954f-07dc4c58e831"
      },
      "execution_count": 47,
      "outputs": [
        {
          "output_type": "stream",
          "name": "stdout",
          "text": [
            "п. 6 Показать распределение сотрудников по зарплатам в каждом департаменте по отдельности\n",
            "department   salary\n",
            "IT           low        609\n",
            "             medium     535\n",
            "             high        83\n",
            "RandD        medium     372\n",
            "             low        364\n",
            "             high        51\n",
            "accounting   low        358\n",
            "             medium     335\n",
            "             high        74\n",
            "hr           medium     359\n",
            "             low        335\n",
            "             high        45\n",
            "management   high       225\n",
            "             medium     225\n",
            "             low        180\n",
            "marketing    low        402\n",
            "             medium     376\n",
            "             high        80\n",
            "product_mng  low        451\n",
            "             medium     383\n",
            "             high        68\n",
            "sales        low       2099\n",
            "             medium    1772\n",
            "             high       269\n",
            "support      low       1146\n",
            "             medium     942\n",
            "             high       141\n",
            "technical    low       1372\n",
            "             medium    1147\n",
            "             high       201\n",
            "Name: salary, dtype: int64\n"
          ]
        },
        {
          "output_type": "display_data",
          "data": {
            "text/plain": [
              "<Figure size 432x288 with 1 Axes>"
            ],
            "image/png": "[encoded data removed]"
          },
          "metadata": {
            "needs_background": "light"
          }
        }
      ]
    },
    {
      "cell_type": "code",
      "source": [
        "# п. 8 \n",
        "print('п. 8 Доля сотрудников с повышением за последние 5 лет', sep='/n')\n",
        "print(df.groupby(['left'])['promotion_last_5years'].value_counts())\n",
        "\n",
        "print('Средняя степень удовлетворенности')\n",
        "print(df.groupby(['left'])['satisfaction_level'].mean())\n",
        "# посчитаем то же самое другим способом:\n",
        "sat_0 = round(df[df['left'] == 0]['satisfaction_level'].mean(), 2)\n",
        "sat_1 = round(df[df['left'] == 1]['satisfaction_level'].mean(), 2)\n",
        "print(F\"Средняя степень удовлетворенности работающих - {sat_0} ,уволившихся {sat_1}\")\n",
        "\n",
        "print('Среднее кол-во проектов')\n",
        "print(df.groupby(['left'])['number_project'].mean())\n",
        "prj_0 = round(df[df['left'] == 0]['number_project'].mean(),2)\n",
        "prj_1 = round(df[df['left'] == 1]['number_project'].mean(),2)\n",
        "print(F\"Среднее кол-во проектов работающих {prj_0} ,уволившихся {prj_1}\")"
      ],
      "metadata": {
        "colab": {
          "base_uri": "https://localhost:8080/"
        },
        "id": "qlVXR2O9ka_J",
        "outputId": "9e292964-dbfb-4316-8978-12d6b64e2543"
      },
      "execution_count": 48,
      "outputs": [
        {
          "output_type": "stream",
          "name": "stdout",
          "text": [
            "п. 8 Доля сотрудников с повышением за последние 5 лет\n",
            "left  promotion_last_5years\n",
            "0     0                        11128\n",
            "      1                          300\n",
            "1     0                         3552\n",
            "      1                           19\n",
            "Name: promotion_last_5years, dtype: int64\n",
            "Средняя степень удовлетворенности\n",
            "left\n",
            "0    0.666810\n",
            "1    0.440098\n",
            "Name: satisfaction_level, dtype: float64\n",
            "Средняя степень удовлетворенности работающих - 0.67 ,уволившихся 0.44\n",
            "Среднее кол-во проектов\n",
            "left\n",
            "0    3.786664\n",
            "1    3.855503\n",
            "Name: number_project, dtype: float64\n",
            "Среднее кол-во проектов работающих 3.79 ,уволившихся 3.86\n"
          ]
        }
      ]
    },
    {
      "cell_type": "code",
      "source": [
        "# п. 9\n",
        "print('п. 9', sep='/n')\n",
        "\n",
        "df = df.drop(['salary', 'department'], axis = 1)\n",
        "\n",
        "class_ = df['left'].to_numpy()\n",
        "# отделяем обучающую выборку\n",
        "x_train, x_test, y_train, y_test = train_test_split(df, class_, test_size=0.25)\n",
        "\n",
        "from sklearn.discriminant_analysis import LinearDiscriminantAnalysis\n",
        "lda = LinearDiscriminantAnalysis()\n",
        "lda.fit(x_train, y_train)   # обучение модели\n",
        "lda.predict(x_test)         # прогноз на тестовой выборке\n",
        "result = pd.DataFrame([y_test, lda.predict(x_test)]).T  # разница теста и расчета\n",
        "print('разница теста и расчета')\n",
        "print(result)\n",
        "\n",
        "from sklearn.metrics import accuracy_score\n",
        "print('Точность прогноза', accuracy_score(y_test, lda.predict(x_test)))  # точность верных прогнозов\n",
        "print(\"Коэфф\", lda.coef_)   # коэф дискриминантных линий\n"
      ],
      "metadata": {
        "colab": {
          "base_uri": "https://localhost:8080/"
        },
        "id": "9pHlJ9wGkJ_i",
        "outputId": "77310039-146d-40c2-a899-a88a7a7fdadc"
      },
      "execution_count": 41,
      "outputs": [
        {
          "output_type": "stream",
          "name": "stdout",
          "text": [
            "п. 9\n",
            "разница теста и расчета\n",
            "      0  1\n",
            "0     0  0\n",
            "1     0  0\n",
            "2     0  0\n",
            "3     1  0\n",
            "4     1  1\n",
            "...  .. ..\n",
            "3745  0  0\n",
            "3746  0  0\n",
            "3747  0  0\n",
            "3748  1  1\n",
            "3749  0  0\n",
            "\n",
            "[3750 rows x 2 columns]\n",
            "Точность прогноза 0.7594666666666666\n",
            "Коэфф [[-4.47757809  0.60229294 -0.23819894  0.00464154  0.22062802 -1.10412139\n",
            "   0.         -1.2010004 ]]\n"
          ]
        }
      ]
    },
    {
      "cell_type": "code",
      "source": [
        "# п. 10 Загрузить jupyter notebook с решение на github и прислать ссылку\n",
        "# Ссылка на GitHub:\n",
        "# https://github.com/Nsv61/Netologia_diploma_NSV61/blob/main/Netologia_diploma.ipynb"
      ],
      "metadata": {
        "id": "jan_yXTHjNxr"
      },
      "execution_count": null,
      "outputs": []
    }
  ]
}